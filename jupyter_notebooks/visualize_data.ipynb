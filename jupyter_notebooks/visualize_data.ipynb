{
 "cells": [
  {
   "cell_type": "code",
   "execution_count": null,
   "metadata": {},
   "outputs": [],
   "source": [
    "# define function defining each paper as a GEO or SRA paper...\n",
    "# ...based on which is mentioned more, or 'Both' if score is equal\n",
    "def getRepo(paper_IDs):\n",
    "    try:\n",
    "        r = statistics.mode(paper_IDs)\n",
    "    except:\n",
    "        r = 'Both'\n",
    "    return r"
   ]
  },
  {
   "cell_type": "code",
   "execution_count": null,
   "metadata": {},
   "outputs": [],
   "source": [
    "# Look at each PAPER\n",
    "# Across GEO and SRA, what percentage of papers reuse data? (stacked bar chart)\n",
    "\n",
    "# Take a slice of allFactors with the data we want\n",
    "byPaper = allFactors[['pmc_ID', 'repository', 'total_use_count']]\n",
    "byPaper = byPaper.dropna(subset = ['repository'])\n",
    "byPaper = byPaper.groupby(['pmc_ID'], as_index = False).agg({\n",
    "    'repository': lambda x: getRepo(x), 'total_use_count': 'mean'})\n",
    "byPaper.columns = ['pmc_ID', 'repository', 'avg_use']\n",
    "\n",
    "# divide into GEO, SRA, Both\n",
    "byPaperGEO = byPaper.loc[byPaper['repository'] == 'GEO']\n",
    "byPaperSRA = byPaper.loc[byPaper['repository'] == 'SRA']\n",
    "byPaperBOTH = byPaper.loc[byPaper['repository'] == 'Both']\n",
    "\n",
    "byPaper"
   ]
  },
  {
   "cell_type": "code",
   "execution_count": null,
   "metadata": {},
   "outputs": [],
   "source": [
    "tc = Counter(byPaper['avg_use'])\n",
    "totalCounts = pd.DataFrame.from_dict(tc, orient = 'index').reset_index()\n",
    "\n",
    "gc = Counter(byPaperGEO['avg_use'])\n",
    "geoCounts = pd.DataFrame.from_dict(gc, orient = 'index').reset_index()\n",
    "\n",
    "sc = Counter(byPaperSRA['avg_use'])\n",
    "sraCounts = pd.DataFrame.from_dict(sc, orient = 'index').reset_index()\n",
    "\n",
    "bc = Counter(byPaperBOTH['avg_use'])\n",
    "bothCounts = pd.DataFrame.from_dict(bc, orient = 'index').reset_index()\n",
    "\n",
    "for df in [totalCounts, geoCounts, sraCounts, bothCounts]:\n",
    "    df.columns = ['avg_use', 'num_papers']\n",
    "    df = df.sort_values(by = 'times_used').reset_index().drop(labels = ['index'], axis = 1)\n",
    "    # no_reuse is number of papers only mentioning datasets used once\n",
    "    no_reuse = df['num_papers'][0]\n",
    "    # tot_papers includes all papers, including those that mentioned at least one reused dataset\n",
    "    tot_papers = df['num_papers'].sum()\n",
    "    pct_reuse_papers = 1 - no_reuse/tot_papers\n",
    "    print(pct_reuse_papers)"
   ]
  }
 ],
 "metadata": {
  "kernelspec": {
   "display_name": "Python 3",
   "language": "python",
   "name": "python3"
  },
  "language_info": {
   "codemirror_mode": {
    "name": "ipython",
    "version": 3
   },
   "file_extension": ".py",
   "mimetype": "text/x-python",
   "name": "python",
   "nbconvert_exporter": "python",
   "pygments_lexer": "ipython3",
   "version": "3.7.4"
  }
 },
 "nbformat": 4,
 "nbformat_minor": 2
}
