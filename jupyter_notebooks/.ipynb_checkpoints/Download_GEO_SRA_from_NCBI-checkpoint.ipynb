{
 "cells": [
  {
   "cell_type": "code",
   "execution_count": 10,
   "metadata": {},
   "outputs": [],
   "source": [
    "import os\n",
    "import csv, sqlite3, pandas\n",
    "from IPython.display import clear_output"
   ]
  },
  {
   "cell_type": "markdown",
   "metadata": {},
   "source": [
    "# Download GEO metadata"
   ]
  },
  {
   "cell_type": "code",
   "execution_count": null,
   "metadata": {},
   "outputs": [],
   "source": []
  },
  {
   "cell_type": "markdown",
   "metadata": {},
   "source": [
    "## Last update: 5/28/2020  --- Page size = 5000\n"
   ]
  },
  {
   "cell_type": "markdown",
   "metadata": {},
   "source": [
    "## 3,608,034 samples -> 722 pages"
   ]
  },
  {
   "cell_type": "code",
   "execution_count": null,
   "metadata": {},
   "outputs": [],
   "source": [
    "os.system(f\"\"\"echo 'Accession,Title,Sample Type,Taxonomy,Channels,Platform,Series,Supplementary Types,Supplementary Links,SRA Accession,Contact,Release Date' > ./samples.csv \"\"\")\n",
    "\n",
    "for i in range(1, 723):\n",
    "    url = 'https://www.ncbi.nlm.nih.gov/geo/browse/?view=samples&sort=date&mode=csv&page='+str(i)+'&display=5000'\n",
    "    os.system(f\"\"\"wget -c --read-timeout=5 --tries=0 \"{url}\" -O ./samples_\"{i}\".csv \"\"\")\n",
    "    os.system(f\"\"\"sed '1d' ./samples_\"{i}\".csv >> ./samples.csv\"\"\")\n",
    "    os.system(f\"\"\"rm -f ./samples_\"{i}\".csv\"\"\")"
   ]
  },
  {
   "cell_type": "markdown",
   "metadata": {},
   "source": [
    "## 130,154 series -> 27 pages"
   ]
  },
  {
   "cell_type": "code",
   "execution_count": null,
   "metadata": {},
   "outputs": [],
   "source": [
    "os.system(f\"\"\"echo 'Accession,Title,Series Type,Taxonomy,Sample Count,Datasets,Supplementary Types,Supplementary Links,PubMed ID,SRA Accession,Contact,Release Date' > ./series.csv \"\"\")\n",
    "\n",
    "for i in range(1, 27):\n",
    "    url = 'https://www.ncbi.nlm.nih.gov/geo/browse/?view=series&sort=date&mode=csv&page='+str(i)+'&display=5000'\n",
    "    os.system(f\"\"\"wget -c --read-timeout=5 --tries=0 \"{url}\" -O ./series_\"{i}\".csv \"\"\")\n",
    "    os.system(f\"\"\"sed '1d' ./series_\"{i}\".csv >> ./series.csv\"\"\")\n",
    "    os.system(f\"\"\"rm -f ./series_\"{i}\".csv\"\"\")"
   ]
  },
  {
   "cell_type": "markdown",
   "metadata": {},
   "source": [
    "## 20,942 platforms -> 5 pages"
   ]
  },
  {
   "cell_type": "code",
   "execution_count": 17,
   "metadata": {},
   "outputs": [],
   "source": [
    "os.system(f\"\"\"echo 'Accession,Title,Technology,Taxonomy,Data Rows,Samples Count,Series Count,Contact,Release Date' > ./platforms.csv \"\"\")\n",
    "\n",
    "for i in range(1, 6):\n",
    "    url = 'https://www.ncbi.nlm.nih.gov/geo/browse/?view=platforms&sort=date&mode=csv&page='+str(i)+'&display=5000'\n",
    "    os.system(f\"\"\"wget -c --read-timeout=5 --tries=0 \"{url}\" -O ./platforms_\"{i}\".csv \"\"\")\n",
    "    os.system(f\"\"\"sed '1d' ./platforms_\"{i}\".csv >> ./platforms.csv\"\"\")\n",
    "    os.system(f\"\"\"rm -f ./platforms_\"{i}\".csv\"\"\")"
   ]
  },
  {
   "cell_type": "markdown",
   "metadata": {},
   "source": [
    "# Download SRA metadata"
   ]
  },
  {
   "cell_type": "markdown",
   "metadata": {},
   "source": [
    "## Download by source"
   ]
  },
  {
   "cell_type": "code",
   "execution_count": 18,
   "metadata": {},
   "outputs": [],
   "source": [
    "sources = [\"genomic\", \"genomic single cell\", \"metagenomic\", \"metatranscriptomic\", \"other\", \"synthetic\", \"transcriptomic\", \"transcriptomic single cell\", \"viral rna\"]\n",
    "filenames = [\"genomic\", \"genomic_single_cell\", \"metagenomic\", \"metatranscriptomic\", \"other\", \"synthetic\", \"transcriptomic\", \"transcriptomic_single_cell\", \"viral_rna\"]\n",
    "\n",
    "#Downloads csv for each source\n",
    "for i in range(0, 9):\n",
    "    os.system(f\"\"\"wget  'http://trace.ncbi.nlm.nih.gov/Traces/sra/sra.cgi?save=efetch&db=sra&rettype=runinfo&term=\"{sources[i]}\"[Source]' -O ./sra_runs_\"{filenames[i]}\".csv\"\"\")\n",
    "    \n",
    "#Creates the final csv with header    \n",
    "os.system(f\"\"\"echo 'Run,ReleaseDate,LoadDate,spots,bases,spots_with_mates,avgLength,size_MB,AssemblyName,download_path,Experiment,LibraryName,LibraryStrategy,LibrarySelection,\n",
    "LibrarySource,LibraryLayout,InsertSize,InsertDev,Platform,Model,SRAStudy,BioProject,Study_Pubmed_id,ProjectID,Sample,BioSample,SampleType,TaxID,ScientificName,SampleName,\n",
    "g1k_pop_code,source,g1k_analysis_group,Subject_ID,Sex,Disease,Tumor,Affection_Status,Analyte_Type,Histological_Type,Body_Site,CenterName,Submission,dbgap_study_accession,Consent,\n",
    "RunHash,ReadHash' > ./sra_complete_runs.csv \"\"\")\n",
    "\n",
    "#Removes first line and concatenates all csvs\n",
    "for i in range(0, 9):\n",
    "    os.system(f\"\"\"sed '1d' ./sra_runs_\"{filenames[i]}\".csv >> ./sra_complete_runs.csv\"\"\")\n"
   ]
  },
  {
   "cell_type": "markdown",
   "metadata": {},
   "source": [
    "## Alternative command to download by publication date\n",
    "## https://www.ncbi.nlm.nih.gov/sra/advanced (to estimate number of records returned)"
   ]
  },
  {
   "cell_type": "code",
   "execution_count": 14,
   "metadata": {},
   "outputs": [
    {
     "data": {
      "text/plain": [
       "0"
      ]
     },
     "execution_count": 14,
     "metadata": {},
     "output_type": "execute_result"
    }
   ],
   "source": [
    "year=\"2006\"\n",
    "os.system(f\"\"\"wget -c 'http://trace.ncbi.nlm.nih.gov/Traces/sra/sra.cgi?save=efetch&db=sra&rettype=runinfo&term=('{year}/01/01'[Publication Date]:'{year}/12/31'[Publication Date])' -O ./sra_runs_{year}.csv\"\"\")"
   ]
  }
 ],
 "metadata": {
  "kernelspec": {
   "display_name": "Python 3",
   "language": "python",
   "name": "python3"
  },
  "language_info": {
   "codemirror_mode": {
    "name": "ipython",
    "version": 3
   },
   "file_extension": ".py",
   "mimetype": "text/x-python",
   "name": "python",
   "nbconvert_exporter": "python",
   "pygments_lexer": "ipython3",
   "version": "3.7.4"
  }
 },
 "nbformat": 4,
 "nbformat_minor": 2
}
