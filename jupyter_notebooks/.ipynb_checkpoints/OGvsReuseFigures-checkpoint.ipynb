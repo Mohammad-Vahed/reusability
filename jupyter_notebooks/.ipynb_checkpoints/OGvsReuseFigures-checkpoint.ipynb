{
 "cells": [
  {
   "cell_type": "code",
   "execution_count": 1,
   "metadata": {},
   "outputs": [],
   "source": [
    "# import required modules\n",
    "import numpy as np\n",
    "import matplotlib.pyplot as plt\n",
    "from matplotlib import rc\n",
    "import pandas as pd\n",
    "import seaborn as sns"
   ]
  },
  {
   "cell_type": "code",
   "execution_count": 2,
   "metadata": {},
   "outputs": [
    {
     "ename": "FileNotFoundError",
     "evalue": "[Errno 2] File b'OGstats_splitSRAGEO.csv' does not exist: b'OGstats_splitSRAGEO.csv'",
     "output_type": "error",
     "traceback": [
      "\u001b[0;31m---------------------------------------------------------------------------\u001b[0m",
      "\u001b[0;31mFileNotFoundError\u001b[0m                         Traceback (most recent call last)",
      "\u001b[0;32m<ipython-input-2-cb019652f21b>\u001b[0m in \u001b[0;36m<module>\u001b[0;34m\u001b[0m\n\u001b[1;32m      1\u001b[0m \u001b[0;31m# read in the data\u001b[0m\u001b[0;34m\u001b[0m\u001b[0;34m\u001b[0m\u001b[0;34m\u001b[0m\u001b[0m\n\u001b[0;32m----> 2\u001b[0;31m \u001b[0mdf\u001b[0m \u001b[0;34m=\u001b[0m \u001b[0mpd\u001b[0m\u001b[0;34m.\u001b[0m\u001b[0mread_csv\u001b[0m\u001b[0;34m(\u001b[0m\u001b[0;34m'OGstats_splitSRAGEO.csv'\u001b[0m\u001b[0;34m)\u001b[0m\u001b[0;34m\u001b[0m\u001b[0;34m\u001b[0m\u001b[0m\n\u001b[0m\u001b[1;32m      3\u001b[0m \u001b[0mtotals\u001b[0m \u001b[0;34m=\u001b[0m \u001b[0mdf\u001b[0m\u001b[0;34m.\u001b[0m\u001b[0msum\u001b[0m\u001b[0;34m(\u001b[0m\u001b[0maxis\u001b[0m\u001b[0;34m=\u001b[0m\u001b[0;36m1\u001b[0m\u001b[0;34m)\u001b[0m\u001b[0;34m\u001b[0m\u001b[0;34m\u001b[0m\u001b[0m\n\u001b[1;32m      4\u001b[0m \u001b[0mdf\u001b[0m\u001b[0;34m.\u001b[0m\u001b[0minsert\u001b[0m\u001b[0;34m(\u001b[0m\u001b[0;36m1\u001b[0m\u001b[0;34m,\u001b[0m \u001b[0;34m\"Total\"\u001b[0m\u001b[0;34m,\u001b[0m \u001b[0mtotals\u001b[0m\u001b[0;34m,\u001b[0m \u001b[0;32mTrue\u001b[0m\u001b[0;34m)\u001b[0m\u001b[0;34m\u001b[0m\u001b[0;34m\u001b[0m\u001b[0m\n\u001b[1;32m      5\u001b[0m \u001b[0mdf\u001b[0m\u001b[0;34m\u001b[0m\u001b[0;34m\u001b[0m\u001b[0m\n",
      "\u001b[0;32m/anaconda3/lib/python3.7/site-packages/pandas/io/parsers.py\u001b[0m in \u001b[0;36mparser_f\u001b[0;34m(filepath_or_buffer, sep, delimiter, header, names, index_col, usecols, squeeze, prefix, mangle_dupe_cols, dtype, engine, converters, true_values, false_values, skipinitialspace, skiprows, skipfooter, nrows, na_values, keep_default_na, na_filter, verbose, skip_blank_lines, parse_dates, infer_datetime_format, keep_date_col, date_parser, dayfirst, iterator, chunksize, compression, thousands, decimal, lineterminator, quotechar, quoting, doublequote, escapechar, comment, encoding, dialect, tupleize_cols, error_bad_lines, warn_bad_lines, delim_whitespace, low_memory, memory_map, float_precision)\u001b[0m\n\u001b[1;32m    700\u001b[0m                     skip_blank_lines=skip_blank_lines)\n\u001b[1;32m    701\u001b[0m \u001b[0;34m\u001b[0m\u001b[0m\n\u001b[0;32m--> 702\u001b[0;31m         \u001b[0;32mreturn\u001b[0m \u001b[0m_read\u001b[0m\u001b[0;34m(\u001b[0m\u001b[0mfilepath_or_buffer\u001b[0m\u001b[0;34m,\u001b[0m \u001b[0mkwds\u001b[0m\u001b[0;34m)\u001b[0m\u001b[0;34m\u001b[0m\u001b[0;34m\u001b[0m\u001b[0m\n\u001b[0m\u001b[1;32m    703\u001b[0m \u001b[0;34m\u001b[0m\u001b[0m\n\u001b[1;32m    704\u001b[0m     \u001b[0mparser_f\u001b[0m\u001b[0;34m.\u001b[0m\u001b[0m__name__\u001b[0m \u001b[0;34m=\u001b[0m \u001b[0mname\u001b[0m\u001b[0;34m\u001b[0m\u001b[0;34m\u001b[0m\u001b[0m\n",
      "\u001b[0;32m/anaconda3/lib/python3.7/site-packages/pandas/io/parsers.py\u001b[0m in \u001b[0;36m_read\u001b[0;34m(filepath_or_buffer, kwds)\u001b[0m\n\u001b[1;32m    427\u001b[0m \u001b[0;34m\u001b[0m\u001b[0m\n\u001b[1;32m    428\u001b[0m     \u001b[0;31m# Create the parser.\u001b[0m\u001b[0;34m\u001b[0m\u001b[0;34m\u001b[0m\u001b[0;34m\u001b[0m\u001b[0m\n\u001b[0;32m--> 429\u001b[0;31m     \u001b[0mparser\u001b[0m \u001b[0;34m=\u001b[0m \u001b[0mTextFileReader\u001b[0m\u001b[0;34m(\u001b[0m\u001b[0mfilepath_or_buffer\u001b[0m\u001b[0;34m,\u001b[0m \u001b[0;34m**\u001b[0m\u001b[0mkwds\u001b[0m\u001b[0;34m)\u001b[0m\u001b[0;34m\u001b[0m\u001b[0;34m\u001b[0m\u001b[0m\n\u001b[0m\u001b[1;32m    430\u001b[0m \u001b[0;34m\u001b[0m\u001b[0m\n\u001b[1;32m    431\u001b[0m     \u001b[0;32mif\u001b[0m \u001b[0mchunksize\u001b[0m \u001b[0;32mor\u001b[0m \u001b[0miterator\u001b[0m\u001b[0;34m:\u001b[0m\u001b[0;34m\u001b[0m\u001b[0;34m\u001b[0m\u001b[0m\n",
      "\u001b[0;32m/anaconda3/lib/python3.7/site-packages/pandas/io/parsers.py\u001b[0m in \u001b[0;36m__init__\u001b[0;34m(self, f, engine, **kwds)\u001b[0m\n\u001b[1;32m    893\u001b[0m             \u001b[0mself\u001b[0m\u001b[0;34m.\u001b[0m\u001b[0moptions\u001b[0m\u001b[0;34m[\u001b[0m\u001b[0;34m'has_index_names'\u001b[0m\u001b[0;34m]\u001b[0m \u001b[0;34m=\u001b[0m \u001b[0mkwds\u001b[0m\u001b[0;34m[\u001b[0m\u001b[0;34m'has_index_names'\u001b[0m\u001b[0;34m]\u001b[0m\u001b[0;34m\u001b[0m\u001b[0;34m\u001b[0m\u001b[0m\n\u001b[1;32m    894\u001b[0m \u001b[0;34m\u001b[0m\u001b[0m\n\u001b[0;32m--> 895\u001b[0;31m         \u001b[0mself\u001b[0m\u001b[0;34m.\u001b[0m\u001b[0m_make_engine\u001b[0m\u001b[0;34m(\u001b[0m\u001b[0mself\u001b[0m\u001b[0;34m.\u001b[0m\u001b[0mengine\u001b[0m\u001b[0;34m)\u001b[0m\u001b[0;34m\u001b[0m\u001b[0;34m\u001b[0m\u001b[0m\n\u001b[0m\u001b[1;32m    896\u001b[0m \u001b[0;34m\u001b[0m\u001b[0m\n\u001b[1;32m    897\u001b[0m     \u001b[0;32mdef\u001b[0m \u001b[0mclose\u001b[0m\u001b[0;34m(\u001b[0m\u001b[0mself\u001b[0m\u001b[0;34m)\u001b[0m\u001b[0;34m:\u001b[0m\u001b[0;34m\u001b[0m\u001b[0;34m\u001b[0m\u001b[0m\n",
      "\u001b[0;32m/anaconda3/lib/python3.7/site-packages/pandas/io/parsers.py\u001b[0m in \u001b[0;36m_make_engine\u001b[0;34m(self, engine)\u001b[0m\n\u001b[1;32m   1120\u001b[0m     \u001b[0;32mdef\u001b[0m \u001b[0m_make_engine\u001b[0m\u001b[0;34m(\u001b[0m\u001b[0mself\u001b[0m\u001b[0;34m,\u001b[0m \u001b[0mengine\u001b[0m\u001b[0;34m=\u001b[0m\u001b[0;34m'c'\u001b[0m\u001b[0;34m)\u001b[0m\u001b[0;34m:\u001b[0m\u001b[0;34m\u001b[0m\u001b[0;34m\u001b[0m\u001b[0m\n\u001b[1;32m   1121\u001b[0m         \u001b[0;32mif\u001b[0m \u001b[0mengine\u001b[0m \u001b[0;34m==\u001b[0m \u001b[0;34m'c'\u001b[0m\u001b[0;34m:\u001b[0m\u001b[0;34m\u001b[0m\u001b[0;34m\u001b[0m\u001b[0m\n\u001b[0;32m-> 1122\u001b[0;31m             \u001b[0mself\u001b[0m\u001b[0;34m.\u001b[0m\u001b[0m_engine\u001b[0m \u001b[0;34m=\u001b[0m \u001b[0mCParserWrapper\u001b[0m\u001b[0;34m(\u001b[0m\u001b[0mself\u001b[0m\u001b[0;34m.\u001b[0m\u001b[0mf\u001b[0m\u001b[0;34m,\u001b[0m \u001b[0;34m**\u001b[0m\u001b[0mself\u001b[0m\u001b[0;34m.\u001b[0m\u001b[0moptions\u001b[0m\u001b[0;34m)\u001b[0m\u001b[0;34m\u001b[0m\u001b[0;34m\u001b[0m\u001b[0m\n\u001b[0m\u001b[1;32m   1123\u001b[0m         \u001b[0;32melse\u001b[0m\u001b[0;34m:\u001b[0m\u001b[0;34m\u001b[0m\u001b[0;34m\u001b[0m\u001b[0m\n\u001b[1;32m   1124\u001b[0m             \u001b[0;32mif\u001b[0m \u001b[0mengine\u001b[0m \u001b[0;34m==\u001b[0m \u001b[0;34m'python'\u001b[0m\u001b[0;34m:\u001b[0m\u001b[0;34m\u001b[0m\u001b[0;34m\u001b[0m\u001b[0m\n",
      "\u001b[0;32m/anaconda3/lib/python3.7/site-packages/pandas/io/parsers.py\u001b[0m in \u001b[0;36m__init__\u001b[0;34m(self, src, **kwds)\u001b[0m\n\u001b[1;32m   1851\u001b[0m         \u001b[0mkwds\u001b[0m\u001b[0;34m[\u001b[0m\u001b[0;34m'usecols'\u001b[0m\u001b[0;34m]\u001b[0m \u001b[0;34m=\u001b[0m \u001b[0mself\u001b[0m\u001b[0;34m.\u001b[0m\u001b[0musecols\u001b[0m\u001b[0;34m\u001b[0m\u001b[0;34m\u001b[0m\u001b[0m\n\u001b[1;32m   1852\u001b[0m \u001b[0;34m\u001b[0m\u001b[0m\n\u001b[0;32m-> 1853\u001b[0;31m         \u001b[0mself\u001b[0m\u001b[0;34m.\u001b[0m\u001b[0m_reader\u001b[0m \u001b[0;34m=\u001b[0m \u001b[0mparsers\u001b[0m\u001b[0;34m.\u001b[0m\u001b[0mTextReader\u001b[0m\u001b[0;34m(\u001b[0m\u001b[0msrc\u001b[0m\u001b[0;34m,\u001b[0m \u001b[0;34m**\u001b[0m\u001b[0mkwds\u001b[0m\u001b[0;34m)\u001b[0m\u001b[0;34m\u001b[0m\u001b[0;34m\u001b[0m\u001b[0m\n\u001b[0m\u001b[1;32m   1854\u001b[0m         \u001b[0mself\u001b[0m\u001b[0;34m.\u001b[0m\u001b[0munnamed_cols\u001b[0m \u001b[0;34m=\u001b[0m \u001b[0mself\u001b[0m\u001b[0;34m.\u001b[0m\u001b[0m_reader\u001b[0m\u001b[0;34m.\u001b[0m\u001b[0munnamed_cols\u001b[0m\u001b[0;34m\u001b[0m\u001b[0;34m\u001b[0m\u001b[0m\n\u001b[1;32m   1855\u001b[0m \u001b[0;34m\u001b[0m\u001b[0m\n",
      "\u001b[0;32mpandas/_libs/parsers.pyx\u001b[0m in \u001b[0;36mpandas._libs.parsers.TextReader.__cinit__\u001b[0;34m()\u001b[0m\n",
      "\u001b[0;32mpandas/_libs/parsers.pyx\u001b[0m in \u001b[0;36mpandas._libs.parsers.TextReader._setup_parser_source\u001b[0;34m()\u001b[0m\n",
      "\u001b[0;31mFileNotFoundError\u001b[0m: [Errno 2] File b'OGstats_splitSRAGEO.csv' does not exist: b'OGstats_splitSRAGEO.csv'"
     ]
    }
   ],
   "source": [
    "# read in the data\n",
    "df = pd.read_csv('../data_tables/OGstats_splitSRAGEO.csv')\n",
    "totals = df.sum(axis=1)\n",
    "df.insert(1, \"Total\", totals, True)\n",
    "df"
   ]
  },
  {
   "cell_type": "code",
   "execution_count": null,
   "metadata": {},
   "outputs": [],
   "source": [
    "# split into SRA and GEO\n",
    "\n",
    "colsSRA = ['journalName', 'origSRA', 'reuseSRA']\n",
    "dfSRA = pd.DataFrame(df, columns = colsSRA)\n",
    "colsGEO = ['journalName', 'origGEO', 'reuseGEO']\n",
    "dfGEO = pd.DataFrame(df, columns = colsGEO)\n",
    "\n",
    "totals = dfSRA.sum(axis=1)\n",
    "dfSRA.insert(1, \"Total\", totals, True)\n",
    "totals = dfGEO.sum(axis=1)\n",
    "dfGEO.insert(1, \"Total\", totals, True)"
   ]
  },
  {
   "cell_type": "code",
   "execution_count": null,
   "metadata": {},
   "outputs": [],
   "source": [
    "## CLEAN THE DATA ##\n",
    "switch = True\n",
    "for frame in [dfSRA, dfGEO]:\n",
    "    # remove all-zero rows\n",
    "    clean_df = frame[frame.Total != 0]\n",
    "    sorted_df = clean_df.sort_values(['Total'], ascending=False).reset_index(drop=True)\n",
    "\n",
    "    # take rows with highest totals\n",
    "    CUTOFF = 150\n",
    "    mini_df = sorted_df.iloc[list(range(CUTOFF))]\n",
    "    ind = list(range(CUTOFF, len(sorted_df)))\n",
    "\n",
    "    # sum the rest into an \"other\" column\n",
    "    otherRow = sorted_df.iloc[ind].sum() \n",
    "    otherRow['journalName'] = \"Other\"\n",
    "\n",
    "    # add \"other\" to the dataframe\n",
    "    mini_df = mini_df.append(otherRow.to_frame().transpose(), ignore_index = True)\n",
    "\n",
    "    if (switch):\n",
    "        mini_dfSRA = mini_df\n",
    "        switch = False\n",
    "    else:\n",
    "        mini_dfGEO = mini_df"
   ]
  },
  {
   "cell_type": "code",
   "execution_count": null,
   "metadata": {},
   "outputs": [],
   "source": [
    "# create a new dataframe with percentages instead of counts\n",
    "dfPctSRA = pd.DataFrame()\n",
    "dfPctSRA['journalName'] = mini_dfSRA['journalName']\n",
    "for i in ['origSRA', 'reuseSRA']:\n",
    "     dfPctSRA[i] = mini_dfSRA[i]/mini_dfSRA['Total']\n",
    "        \n",
    "dfPctGEO = pd.DataFrame()\n",
    "dfPctGEO['journalName'] = mini_dfGEO['journalName']\n",
    "for i in ['origGEO', 'reuseGEO']:\n",
    "     dfPctGEO[i] = mini_dfGEO[i]/mini_dfGEO['Total']\n",
    "        \n",
    "# sort by reuse percentage\n",
    "dfPct_sortedSRA = dfPctSRA.sort_values(['reuseSRA'], ascending=False).reset_index(drop=True)\n",
    "dfPct_sortedGEO = dfPctGEO.sort_values(['reuseGEO'], ascending=False).reset_index(drop=True)"
   ]
  },
  {
   "cell_type": "code",
   "execution_count": null,
   "metadata": {},
   "outputs": [],
   "source": [
    "# set up the dataframe to be graphed\n",
    "switch = True\n",
    "for frame in [dfPct_sortedSRA, dfPct_sortedGEO]:\n",
    "    dfT = frame.transpose()\n",
    "    newHeader = dfT.iloc[0]\n",
    "    dfT = dfT[1:]\n",
    "    dfT.columns = newHeader\n",
    "    if(switch):\n",
    "        dfT_SRA = dfT\n",
    "        switch = False\n",
    "    else:\n",
    "        dfT_GEO = dfT"
   ]
  },
  {
   "cell_type": "code",
   "execution_count": null,
   "metadata": {},
   "outputs": [],
   "source": [
    "## PLOT TWO STACKED BARCHARTS ##\n",
    "\n",
    "# make the colors look nice\n",
    "sns.set(style = 'whitegrid')\n",
    "plt.style.use(['fivethirtyeight', 'seaborn-whitegrid'])\n",
    "\n",
    "# create axis objects\n",
    "axSRA = dfT_SRA.T.plot(kind='bar', stacked=True, figsize=(60,20))\n",
    "sns.despine()\n",
    "axSRA.grid(False)\n",
    "axGEO = dfT_GEO.T.plot(kind='bar', stacked=True, figsize=(60,20))\n",
    "sns.despine()\n",
    "axGEO.grid(False)\n",
    "\n",
    "# create legend objects\n",
    "axGEO.legend(loc='upper center', ncol = 2, prop={'size': 60}, labels=['Papers Depositing Data', 'Papers Reusing Data'], frameon=True)\n",
    "axSRA.legend(loc='upper center', ncol = 2, prop={'size': 60}, labels=['Papers Depositing Data', 'Papers Reusing Data'], frameon=True)\n",
    "\n",
    "# fix all the labels\n",
    "axGEO.set_title(\"Gene Expression Omnibus\", fontsize=100)\n",
    "axSRA.set_title(\"INSDC\", fontsize=100)\n",
    "axGEO.set_xlabel(\"Journal\", fontsize=70)\n",
    "axGEO.set_ylabel(\"Percent\", fontsize=70)\n",
    "axSRA.set_xlabel(\"Journal\", fontsize=70)\n",
    "axSRA.set_ylabel(\"Percent\", fontsize=70)\n",
    "\n",
    "# create figure objects\n",
    "graphSRA = axSRA.get_figure()\n",
    "graphGEO = axGEO.get_figure()\n",
    "\n",
    "# save to .png files\n",
    "#graphSRA.savefig('percent_reusingSRA.png', dpi = 200, bbox_inches = 'tight', transparent=True)\n",
    "#graphGEO.savefig('percent_reusingGEO.png', dpi = 200, bbox_inches = 'tight', transparent=True)\n",
    "\n"
   ]
  },
  {
   "cell_type": "code",
   "execution_count": null,
   "metadata": {},
   "outputs": [],
   "source": [
    "# set up data to plot two pie charts\n",
    "\n",
    "dfSRA_pie = pd.DataFrame({'tag':['reuse', 'original'], 'SRAcount':[dfSRA.reuseSRA.sum(), dfSRA.origSRA.sum()]})\n",
    "dfGEO_pie = pd.DataFrame({'tag':['reuse', 'original'], 'GEOcount':[dfGEO.reuseGEO.sum(), dfGEO.origGEO.sum()]})\n",
    "dfGEO_pie"
   ]
  },
  {
   "cell_type": "code",
   "execution_count": null,
   "metadata": {},
   "outputs": [],
   "source": [
    "## PLOT TWO PIE CHARTS ##\n",
    "\n",
    "# make the colors the same as the bar chart\n",
    "plt.style.use('ggplot')\n",
    "\n",
    "# create axis and legend objects\n",
    "axSRA = dfSRA_pie.plot(kind='pie', subplots=True, y='SRAcount', labels=['',''], figsize=(30,30))\n",
    "plt.legend(loc='upper center', ncol = 2, prop={'size': 50}, labels=['Reusing', 'Depositing'], frameon=True)\n",
    "axGEO = dfGEO_pie.plot(kind='pie', subplots=True, y='GEOcount', labels=['',''], figsize=(30,30))\n",
    "plt.legend(loc='upper center', ncol = 2, prop={'size': 50}, labels=['Reusing', 'Depositing'], frameon=True)\n",
    "\n",
    "# create figure objects\n",
    "figSRA = axSRA[0].get_figure()\n",
    "figGEO = axGEO[0].get_figure()\n",
    "\n",
    "# save to .png\n",
    "#figSRA.savefig('pie_SRA.png', dpi = 200, bbox_inches = 'tight', transparent = True)\n",
    "#figGEO.savefig('pie_GEO.png', dpi = 200, bbox_inches = 'tight', transparent = True)"
   ]
  },
  {
   "cell_type": "code",
   "execution_count": null,
   "metadata": {},
   "outputs": [],
   "source": [
    "dfSRA_pie"
   ]
  },
  {
   "cell_type": "code",
   "execution_count": null,
   "metadata": {},
   "outputs": [],
   "source": []
  }
 ],
 "metadata": {
  "kernelspec": {
   "display_name": "Python 3",
   "language": "python",
   "name": "python3"
  },
  "language_info": {
   "codemirror_mode": {
    "name": "ipython",
    "version": 3
   },
   "file_extension": ".py",
   "mimetype": "text/x-python",
   "name": "python",
   "nbconvert_exporter": "python",
   "pygments_lexer": "ipython3",
   "version": "3.7.3"
  }
 },
 "nbformat": 4,
 "nbformat_minor": 2
}
